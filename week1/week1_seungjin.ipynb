{
 "cells": [
  {
   "cell_type": "code",
   "execution_count": 1,
   "id": "f3680c9d",
   "metadata": {},
   "outputs": [
    {
     "name": "stdout",
     "output_type": "stream",
     "text": [
      "Hello\n"
     ]
    }
   ],
   "source": [
    "print(\"Hello\")"
   ]
  },
  {
   "cell_type": "code",
   "execution_count": 23,
   "id": "49adcdaa",
   "metadata": {},
   "outputs": [
    {
     "name": "stdout",
     "output_type": "stream",
     "text": [
      "[ 2  4  6  8 10 12 14 16 18 20]\n",
      "[ 2.  4.  6.  8. 10. 12. 14. 16. 18. 20.]\n",
      "[[ 2.  4.]\n",
      " [ 6.  8.]\n",
      " [10. 12.]\n",
      " [14. 16.]\n",
      " [18. 20.]]\n",
      "[ 2.  4.  6.  8. 10.]\n",
      "[10.  8.  6.  4.  2.]\n"
     ]
    }
   ],
   "source": [
    "import numpy as np\n",
    "a=[]\n",
    "for i in range(1,21):\n",
    "    if i%2==0:\n",
    "        a.append(i)\n",
    "ans1=np.array(a)\n",
    "\n",
    "print(ans1)\n",
    "\n",
    "ans2=ans1.astype('float64')\n",
    "\n",
    "print (ans2)\n",
    "\n",
    "ans3=ans2.reshape(5,2)\n",
    "\n",
    "print (ans3)\n",
    "\n",
    "ans4=ans3.reshape(10)\n",
    "ans4=ans4[:5]\n",
    "\n",
    "print(ans4)\n",
    "\n",
    "ans5=np.sort(ans4)[::-1]\n",
    "print(ans5)"
   ]
  },
  {
   "cell_type": "code",
   "execution_count": null,
   "id": "1719e0e1",
   "metadata": {},
   "outputs": [],
   "source": []
  }
 ],
 "metadata": {
  "kernelspec": {
   "display_name": "Python 3",
   "language": "python",
   "name": "python3"
  },
  "language_info": {
   "codemirror_mode": {
    "name": "ipython",
    "version": 3
   },
   "file_extension": ".py",
   "mimetype": "text/x-python",
   "name": "python",
   "nbconvert_exporter": "python",
   "pygments_lexer": "ipython3",
   "version": "3.8.8"
  }
 },
 "nbformat": 4,
 "nbformat_minor": 5
}
